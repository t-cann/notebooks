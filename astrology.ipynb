{
 "cells": [
  {
   "cell_type": "code",
   "execution_count": 1,
   "metadata": {
    "collapsed": false
   },
   "outputs": [
    {
     "data": {
      "text/plain": [
       "8776"
      ]
     },
     "execution_count": 1,
     "metadata": {},
     "output_type": "execute_result"
    }
   ],
   "source": [
    "import numpy as np\n",
    "import matplotlib.pyplot as plt\n",
    "%matplotlib inline\n",
    "\n",
    "import swisseph as swe\n",
    "obliquity = 23.44\n",
    "\n",
    "n_planets = 9\n",
    "\n",
    "f = open(\"gauquelin.txt\", \"rt\")\n",
    "data = [s.split('\\t') for s in f]\n",
    "header = data[0]\n",
    "data = data[2:]\n",
    "len(data)"
   ]
  },
  {
   "cell_type": "code",
   "execution_count": 2,
   "metadata": {
    "collapsed": false
   },
   "outputs": [
    {
     "name": "stdout",
     "output_type": "stream",
     "text": [
      "Available planets list:\n",
      "0 Sun\n",
      "1 Moon\n",
      "2 Mercury\n",
      "3 Venus\n",
      "4 Mars\n",
      "5 Jupiter\n",
      "6 Saturn\n",
      "7 Uranus\n",
      "8 Neptune\n",
      "9 Pluto\n",
      "10 mean Node\n",
      "11 true Node\n",
      "12 mean Apogee\n",
      "13 osc. Apogee\n",
      "14 Earth\n",
      "15 Chiron\n",
      "16 Pholus\n",
      "17 Ceres\n",
      "18 Pallas\n",
      "19 Juno\n",
      "20 Vesta\n",
      "21 intp. Apogee\n",
      "22 intp. Perigee\n"
     ]
    }
   ],
   "source": [
    "print 'Available planets list:'\n",
    "for i in range(23):\n",
    "    print i, swe.get_planet_name(i)"
   ]
  },
  {
   "cell_type": "code",
   "execution_count": 3,
   "metadata": {
    "collapsed": false
   },
   "outputs": [],
   "source": [
    "def convert_angle(s):\n",
    "    sign = 1.0 if (s[-3]=='N' or s[-3]=='E') else -1.0\n",
    "    return sign*(float(s[:-3]) + float(s[-2:].lstrip(' ')) / 60.0)\n",
    "\n",
    "class Person:\n",
    "    def __init__(self, entry):\n",
    "        year  = int(entry[0])\n",
    "        month = int(entry[1])\n",
    "        day   = int(entry[2])\n",
    "        hour  = int(entry[6]) + int(entry[9])\n",
    "        minute = int(entry[7])\n",
    "        second = float(entry[8])\n",
    "        julday = swe.julday(year, month, day, hour + minute/60.0 + second/3600.0)\n",
    "        t = swe.sidtime(julday) * 15\n",
    "        self.occupation = entry[3]\n",
    "        lat = convert_angle(entry[10])\n",
    "        lon = convert_angle(entry[11])\n",
    "        self.houses = -np.ones(n_planets)\n",
    "        self.signs  = -np.ones(n_planets)\n",
    "        for body in range(n_planets):\n",
    "            p = swe.calc(julday, body)\n",
    "            self.houses[body] = int(swe.house_pos(t + lon, lat, obliquity, p[0], p[1])) - 1\n",
    "            self.signs[body] = int(p[0] / 30)\n",
    "    def get_features(self):\n",
    "        X = np.zeros(2*12*n_planets)\n",
    "        for i in range(n_planets):\n",
    "            X[2*12*i + int(self.houses[i])] = 1\n",
    "            X[2*12*i + 12 + int(self.signs[i])] = 1\n",
    "        return X\n",
    "    def get_target(self):\n",
    "        return ['C', 'S', 'M'].index(self.occupation)"
   ]
  },
  {
   "cell_type": "code",
   "execution_count": 4,
   "metadata": {
    "collapsed": false
   },
   "outputs": [],
   "source": [
    "n = len(data)\n",
    "X = []\n",
    "y = []\n",
    "for i in range(n):\n",
    "    p = Person(data[i])\n",
    "    X.append(p.get_features())\n",
    "    y.append(p.get_target())\n",
    "X = np.array(X)\n",
    "y = np.array(y)"
   ]
  },
  {
   "cell_type": "code",
   "execution_count": 5,
   "metadata": {
    "collapsed": false
   },
   "outputs": [],
   "source": [
    "from sklearn.utils import shuffle\n",
    "X, y = shuffle(X, y)"
   ]
  },
  {
   "cell_type": "code",
   "execution_count": 6,
   "metadata": {
    "collapsed": false
   },
   "outputs": [
    {
     "name": "stdout",
     "output_type": "stream",
     "text": [
      "[ 0.60182025  0.57792947  0.57337884  0.57061503  0.59339408  0.60022779\n",
      "  0.58608894  0.59703196  0.58333333  0.58789954]\n",
      "prediction accuracy =  0.587171923698  +-  0.00329727852616\n"
     ]
    }
   ],
   "source": [
    "from sklearn.linear_model import LogisticRegression\n",
    "from sklearn.cross_validation import cross_val_score\n",
    "clf = LogisticRegression(penalty='l1', C=0.1)\n",
    "scores = cross_val_score(clf, X, y, cv=10)\n",
    "\n",
    "print scores\n",
    "print 'prediction accuracy = ', np.mean(scores), ' +- ' , np.std(scores)/np.sqrt(len(scores))"
   ]
  },
  {
   "cell_type": "code",
   "execution_count": 7,
   "metadata": {
    "collapsed": false,
    "scrolled": true
   },
   "outputs": [
    {
     "name": "stdout",
     "output_type": "stream",
     "text": [
      "baseline accuracy =  0.415109389243\n"
     ]
    }
   ],
   "source": [
    "print 'baseline accuracy = ', 1.0 * np.sum(y==1) / len(y)"
   ]
  },
  {
   "cell_type": "code",
   "execution_count": 8,
   "metadata": {
    "collapsed": false
   },
   "outputs": [
    {
     "data": {
      "text/plain": [
       "[]"
      ]
     },
     "execution_count": 8,
     "metadata": {},
     "output_type": "execute_result"
    },
    {
     "data": {
      "image/png": "[encoded data removed]",
      "text/plain": [
       "<matplotlib.figure.Figure at 0x7fb048587d10>"
      ]
     },
     "metadata": {},
     "output_type": "display_data"
    }
   ],
   "source": [
    "clf.fit(X, y)\n",
    "\n",
    "planet_strength = np.zeros(n_planets)\n",
    "for i in range(n_planets):\n",
    "    for j in range(24):\n",
    "        planet_strength[i] += np.sum(clf.coef_[:,24*i + j]**2)\n",
    "\n",
    "plt.figure(figsize=(10,5))\n",
    "plt.bar(np.arange(n_planets), planet_strength)\n",
    "plt.xticks(np.arange(n_planets) + 0.5, [swe.get_planet_name(i) for i in range(n_planets)])\n",
    "plt.title('planet strength')\n",
    "plt.plot()"
   ]
  },
  {
   "cell_type": "code",
   "execution_count": null,
   "metadata": {
    "collapsed": true
   },
   "outputs": [],
   "source": []
  }
 ],
 "metadata": {
  "kernelspec": {
   "display_name": "Python 2",
   "language": "python",
   "name": "python2"
  },
  "language_info": {
   "codemirror_mode": {
    "name": "ipython",
    "version": 2
   },
   "file_extension": ".py",
   "mimetype": "text/x-python",
   "name": "python",
   "nbconvert_exporter": "python",
   "pygments_lexer": "ipython2",
   "version": "2.7.6"
  }
 },
 "nbformat": 4,
 "nbformat_minor": 0
}
