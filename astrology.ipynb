{
 "cells": [
  {
   "cell_type": "code",
   "execution_count": 169,
   "metadata": {
    "collapsed": false
   },
   "outputs": [
    {
     "data": {
      "text/plain": [
       "8776"
      ]
     },
     "execution_count": 169,
     "metadata": {},
     "output_type": "execute_result"
    }
   ],
   "source": [
    "import ephem\n",
    "import numpy as np\n",
    "import matplotlib.pyplot as plt\n",
    "%matplotlib inline\n",
    "\n",
    "f = open(\"gauquelin.txt\", \"rt\")\n",
    "data = [s.split('\\t') for s in f]\n",
    "header = data[0]\n",
    "data = data[2:]\n",
    "len(data)"
   ]
  },
  {
   "cell_type": "code",
   "execution_count": 284,
   "metadata": {
    "collapsed": false
   },
   "outputs": [],
   "source": [
    "def convert_angle(s):\n",
    "    sign = '+' if (s[-3]=='N' or s[-3]=='E') else '-'\n",
    "    return sign + s[:-3] + ':' + s[-2:].lstrip(' ')\n",
    "        \n",
    "def get_planet_position(obs, planet):\n",
    "    pl = planet(obs)\n",
    "    house = int(np.floor(pl.az / (2*np.pi) * 12))\n",
    "    sign = int(np.floor(ephem.Ecliptic(pl).lon / (2*np.pi) * 12))\n",
    "    return [sign, house]\n",
    "\n",
    "def decode_index(ind):\n",
    "    p = ind / 24\n",
    "    i = ind % 24\n",
    "    circle = 'sign' if i < 12 else 'house'\n",
    "    n = i % 12\n",
    "    planets = ['Sun', 'Moon', 'Mercury', 'Venus', 'Mars', 'Jupiter', 'Saturn']\n",
    "    return planets[p] + ' in ' + circle + ' ' + str(n+1)\n",
    "\n",
    "class Person:\n",
    "    def __init__(self, entry):\n",
    "        self.obs = ephem.Observer()\n",
    "        hour = str(int(entry[6]) + int(entry[9]))\n",
    "        self.obs.date = entry[0] + '/' + entry[1] + '/' + entry[2] + ' ' + hour + ':' + entry[7]\n",
    "        self.obs.lat = convert_angle(entry[10])\n",
    "        self.obs.lon = convert_angle(entry[11])\n",
    "        self.occupation = entry[3]"
   ]
  },
  {
   "cell_type": "code",
   "execution_count": 228,
   "metadata": {
    "collapsed": false,
    "scrolled": true
   },
   "outputs": [],
   "source": [
    "n = len(data)\n",
    "planets = [ephem.Sun, ephem.Moon, ephem.Mercury, ephem.Venus, ephem.Mars, ephem.Jupiter, ephem.Saturn]\n",
    "features = []\n",
    "for i in range(n):\n",
    "    p = Person(data[i])\n",
    "    features.append([])\n",
    "    for planet in planets:\n",
    "        features[-1].extend(get_planet_position(p.obs, planet))\n",
    "        \n",
    "m = 12 * len(features[0])\n",
    "X = np.zeros((n, m))\n",
    "y = - np.ones(n)\n",
    "\n",
    "for i in range(n):\n",
    "    for j in range(len(features[0])):\n",
    "        X[i, j*12 + features[i][j]] = 1\n",
    "    if data[i][3] == 'C':\n",
    "        y[i] = 0\n",
    "    elif data[i][3] == 'S':\n",
    "        y[i] = 1\n",
    "    elif data[i][3] == 'M':\n",
    "        y[i] = 2"
   ]
  },
  {
   "cell_type": "code",
   "execution_count": 229,
   "metadata": {
    "collapsed": false
   },
   "outputs": [],
   "source": [
    "from sklearn.utils import shuffle\n",
    "X, y = shuffle(X, y)"
   ]
  },
  {
   "cell_type": "code",
   "execution_count": 294,
   "metadata": {
    "collapsed": false
   },
   "outputs": [
    {
     "name": "stdout",
     "output_type": "stream",
     "text": [
      "[ 0.44141069  0.43913538  0.44596132  0.44646925  0.42710706  0.43507973\n",
      "  0.44355758  0.41894977  0.42237443  0.45319635]\n",
      "prediction accuracy =  0.437324156183  +-  0.00337569919749\n"
     ]
    }
   ],
   "source": [
    "from sklearn.linear_model import LogisticRegression\n",
    "clf = LogisticRegression(penalty='l1', C=0.1)\n",
    "scores = cross_val_score(clf, X, y, cv=10)\n",
    "\n",
    "print scores\n",
    "print 'prediction accuracy = ', np.mean(scores), ' +- ' , np.std(scores)/np.sqrt(len(scores))"
   ]
  },
  {
   "cell_type": "code",
   "execution_count": 295,
   "metadata": {
    "collapsed": false
   },
   "outputs": [
    {
     "name": "stdout",
     "output_type": "stream",
     "text": [
      "baseline accuracy =  0.415109389243\n"
     ]
    }
   ],
   "source": [
    "print 'baseline accuracy = ', 1.0 * np.sum(y==1) / len(y)"
   ]
  }
 ],
 "metadata": {
  "kernelspec": {
   "display_name": "Python 2",
   "language": "python",
   "name": "python2"
  },
  "language_info": {
   "codemirror_mode": {
    "name": "ipython",
    "version": 2
   },
   "file_extension": ".py",
   "mimetype": "text/x-python",
   "name": "python",
   "nbconvert_exporter": "python",
   "pygments_lexer": "ipython2",
   "version": "2.7.6"
  }
 },
 "nbformat": 4,
 "nbformat_minor": 0
}
